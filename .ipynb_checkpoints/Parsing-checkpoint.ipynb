{
 "cells": [
  {
   "cell_type": "code",
   "execution_count": 86,
   "id": "a0b37659",
   "metadata": {},
   "outputs": [],
   "source": [
    "from bs4 import BeautifulSoup\n",
    "from selenium import webdriver\n",
    "from selenium.webdriver.firefox.service import Service\n",
    "import pandas as pd"
   ]
  },
  {
   "cell_type": "code",
   "execution_count": 87,
   "id": "fd37ac89",
   "metadata": {},
   "outputs": [],
   "source": [
    "url='https://www.meloman.kz/catalogsearch/result/index/q/*/?amp%3Bproduct_list_order=product_rate&%3Bq=%2A&%3Bsearch_cat=&cat=1172&product_list_order=product_rate'\n"
   ]
  },
  {
   "cell_type": "code",
   "execution_count": 88,
   "id": "899708e6",
   "metadata": {},
   "outputs": [],
   "source": [
    "geckodriver_path = r'/home/sdu/Desktop/lessons/AP/geckodriver'\n",
    "service = Service(geckodriver_path)\n",
    "driver = webdriver.Firefox(service=service)"
   ]
  },
  {
   "cell_type": "code",
   "execution_count": 89,
   "id": "354991f8",
   "metadata": {},
   "outputs": [],
   "source": [
    "names = []\n",
    "prices = []\n",
    "genres=[]\n",
    "years=[]\n",
    "publishers=[]\n",
    "ages=[]\n",
    "languages=[]\n",
    "ratings=[]\n",
    "counts=[]"
   ]
  },
  {
   "cell_type": "code",
   "execution_count": 90,
   "id": "837013d7",
   "metadata": {},
   "outputs": [],
   "source": [
    "book_number=0"
   ]
  },
  {
   "cell_type": "code",
   "execution_count": 1,
   "id": "f2394015",
   "metadata": {},
   "outputs": [
    {
     "name": "stdout",
     "output_type": "stream",
     "text": [
      "1-go,0-exit0\n"
     ]
    },
    {
     "ename": "NameError",
     "evalue": "name 'driver' is not defined",
     "output_type": "error",
     "traceback": [
      "\u001b[0;31m---------------------------------------------------------------------------\u001b[0m",
      "\u001b[0;31mNameError\u001b[0m                                 Traceback (most recent call last)",
      "\u001b[0;32m/tmp/ipykernel_21456/266878383.py\u001b[0m in \u001b[0;36m<module>\u001b[0;34m\u001b[0m\n\u001b[1;32m     10\u001b[0m     \u001b[0;32mtry\u001b[0m\u001b[0;34m:\u001b[0m\u001b[0;34m\u001b[0m\u001b[0;34m\u001b[0m\u001b[0m\n\u001b[0;32m---> 11\u001b[0;31m         \u001b[0mdriver\u001b[0m\u001b[0;34m.\u001b[0m\u001b[0mget\u001b[0m\u001b[0;34m(\u001b[0m\u001b[0murl\u001b[0m\u001b[0;34m+\u001b[0m\u001b[0;34m'&p='\u001b[0m\u001b[0;34m+\u001b[0m\u001b[0mstr\u001b[0m\u001b[0;34m(\u001b[0m\u001b[0mi\u001b[0m\u001b[0;34m)\u001b[0m\u001b[0;34m)\u001b[0m\u001b[0;34m\u001b[0m\u001b[0;34m\u001b[0m\u001b[0m\n\u001b[0m\u001b[1;32m     12\u001b[0m \u001b[0;31m#     if loading of page stopped ( because of connection )\u001b[0m\u001b[0;34m\u001b[0m\u001b[0;34m\u001b[0m\u001b[0m\n",
      "\u001b[0;31mNameError\u001b[0m: name 'driver' is not defined",
      "\nDuring handling of the above exception, another exception occurred:\n",
      "\u001b[0;31mNameError\u001b[0m                                 Traceback (most recent call last)",
      "\u001b[0;32m/tmp/ipykernel_21456/266878383.py\u001b[0m in \u001b[0;36m<module>\u001b[0;34m\u001b[0m\n\u001b[1;32m     14\u001b[0m         \u001b[0mx\u001b[0m\u001b[0;34m=\u001b[0m\u001b[0;34m(\u001b[0m\u001b[0minput\u001b[0m\u001b[0;34m(\u001b[0m\u001b[0;34m'1-go,0-exit'\u001b[0m\u001b[0;34m)\u001b[0m\u001b[0;34m)\u001b[0m\u001b[0;34m\u001b[0m\u001b[0;34m\u001b[0m\u001b[0m\n\u001b[1;32m     15\u001b[0m         \u001b[0;32mif\u001b[0m\u001b[0;34m(\u001b[0m\u001b[0mx\u001b[0m\u001b[0;34m)\u001b[0m\u001b[0;34m:\u001b[0m\u001b[0;34m\u001b[0m\u001b[0;34m\u001b[0m\u001b[0m\n\u001b[0;32m---> 16\u001b[0;31m             \u001b[0mdriver\u001b[0m\u001b[0;34m.\u001b[0m\u001b[0mget\u001b[0m\u001b[0;34m(\u001b[0m\u001b[0murl\u001b[0m\u001b[0;34m+\u001b[0m\u001b[0;34m'&p='\u001b[0m\u001b[0;34m+\u001b[0m\u001b[0mstr\u001b[0m\u001b[0;34m(\u001b[0m\u001b[0mi\u001b[0m\u001b[0;34m)\u001b[0m\u001b[0;34m)\u001b[0m\u001b[0;34m\u001b[0m\u001b[0;34m\u001b[0m\u001b[0m\n\u001b[0m\u001b[1;32m     17\u001b[0m         \u001b[0;32melse\u001b[0m\u001b[0;34m:\u001b[0m\u001b[0;34m\u001b[0m\u001b[0;34m\u001b[0m\u001b[0m\n\u001b[1;32m     18\u001b[0m             \u001b[0;32mbreak\u001b[0m\u001b[0;34m\u001b[0m\u001b[0;34m\u001b[0m\u001b[0m\n",
      "\u001b[0;31mNameError\u001b[0m: name 'driver' is not defined"
     ]
    }
   ],
   "source": [
    "# i == page number\n",
    "# n == number of pages\n",
    "# there's 100 books in each page\n",
    "\n",
    "n=10\n",
    "\n",
    "# loading page\n",
    "for i in range(1,n+1):\n",
    "    \n",
    "    try:\n",
    "        driver.get(url+'&p='+str(i))\n",
    "#     if loading of page stopped ( because of connection )\n",
    "    except:\n",
    "        x=(input('1-go,0-exit'))\n",
    "        if(x):\n",
    "            driver.get(url+'&p='+str(i))\n",
    "        else:\n",
    "            break\n",
    "\n",
    "    soup = BeautifulSoup(driver.page_source)\n",
    "    \n",
    "    for book_block in soup.findAll('div', attrs={'class':'product details product-item-details'}):\n",
    "        book_number+=1\n",
    "\n",
    "        name = book_block.find('a',attrs={'class':'product-item-link'})\n",
    "#         price = book_block.find('span', attrs={'class': 'price'}).find('span')\n",
    "        price = ''\n",
    "\n",
    "#     load book information separately one by one\n",
    "        link = name.get('href')\n",
    "\n",
    "        try:\n",
    "            driver.get(link)\n",
    "#         if loading of book information stopped ( because of connection )\n",
    "        except:\n",
    "            x=(input('1-go,0-exit'))\n",
    "            if(x):\n",
    "                driver.get(link)\n",
    "            else:\n",
    "                break\n",
    "        book_content=BeautifulSoup(driver.page_source)\n",
    "\n",
    "        rating= book_content.find('div',attrs={'class':'product-reviews-summary'})\n",
    "\n",
    "        rating_percent=rating.find('div',attrs={'class':'rating-result'})\n",
    "        rating_count=rating.find('span',attrs={'class':'counter'})\n",
    "\n",
    "        info = book_content.find('table',attrs={'class':'additional-attributes'})\n",
    "\n",
    "        try:\n",
    "            publisher = info.find('td',attrs={'data-th':'Издательство'}).find('a')\n",
    "        except:\n",
    "            publisher = info.find('td',attrs={'data-th':'Издательство'})\n",
    "\n",
    "        genre=info.find('td',attrs={'data-th':'Жанр'})\n",
    "        age=info.find('td',attrs={'data-th':'Возраст'})\n",
    "        year=info.find('td',attrs={'data-th':'Год издания'})\n",
    "        language=info.find('td',attrs={'data-th':'Язык'})\n",
    "        if (price==None or price == ''):\n",
    "            price = book_content.find('span', attrs={'class': 'price'})\n",
    "            \n",
    "        names.append(name.text if name else '')\n",
    "        prices.append(int(''.join(price.text.split('\\xa0')[0])) if price else '')\n",
    "        ratings.append(rating_percent.get('title') if rating_percent else '')\n",
    "        counts.append(int(rating_count.text) if rating_count else '')\n",
    "        publishers.append(publisher.text if publisher else '')\n",
    "        genres.append(genre.text if genre else '')\n",
    "        ages.append(age.text if age else '')\n",
    "        years.append(int(year.text) if year else '')\n",
    "        languages.append(language.text if language else '')\n",
    "\n",
    "        print('Done book: '+str(book_number))\n",
    "    print('Done page:'+str(i))"
   ]
  },
  {
   "cell_type": "code",
   "execution_count": 93,
   "id": "e3cfb543",
   "metadata": {},
   "outputs": [],
   "source": [
    "data = {\n",
    "    'name': names,\n",
    "    'price': prices,\n",
    "    'rating':ratings,\n",
    "    'count':counts,\n",
    "    'genre':genres,\n",
    "    'publisher':publishers,\n",
    "    'age':ages,\n",
    "    'year':years,\n",
    "    'language':languages\n",
    "}"
   ]
  },
  {
   "cell_type": "code",
   "execution_count": 15,
   "id": "e148c57c",
   "metadata": {},
   "outputs": [],
   "source": [
    "df = pd.DataFrame(data)\n",
    "df.to_csv('data.csv', index=False)"
   ]
  }
 ],
 "metadata": {
  "kernelspec": {
   "display_name": "Python 3 (ipykernel)",
   "language": "python",
   "name": "python3"
  },
  "language_info": {
   "codemirror_mode": {
    "name": "ipython",
    "version": 3
   },
   "file_extension": ".py",
   "mimetype": "text/x-python",
   "name": "python",
   "nbconvert_exporter": "python",
   "pygments_lexer": "ipython3",
   "version": "3.9.7"
  }
 },
 "nbformat": 4,
 "nbformat_minor": 5
}
